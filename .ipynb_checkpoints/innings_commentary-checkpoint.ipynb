{
 "cells": [
  {
   "cell_type": "code",
   "execution_count": 1,
   "metadata": {},
   "outputs": [],
   "source": [
    "import time\n",
    "\n",
    "from selenium import webdriver\n",
    "from selenium.webdriver.common.keys import Keys\n",
    "\n",
    "from bs4 import BeautifulSoup\n",
    "\n",
    "import warnings\n",
    "warnings.filterwarnings('ignore')"
   ]
  },
  {
   "cell_type": "code",
   "execution_count": 2,
   "metadata": {},
   "outputs": [],
   "source": [
    "from selenium.webdriver.common.by import By\n",
    "from selenium.common.exceptions import NoSuchElementException\n",
    "from selenium.webdriver.chrome.options import Options"
   ]
  },
  {
   "cell_type": "code",
   "execution_count": 3,
   "metadata": {},
   "outputs": [],
   "source": [
    "import pandas as pd\n",
    "import urllib.request"
   ]
  },
  {
   "cell_type": "code",
   "execution_count": 4,
   "metadata": {},
   "outputs": [],
   "source": [
    "## render a site till complete scroll using selenium and soup content\n",
    "\n",
    "def content_render_extract(url):\n",
    "\n",
    "    driver = webdriver.Chrome(executable_path='/Users/ganeshshankar/Downloads/chromedriver')\n",
    "    driver.implicitly_wait(2)\n",
    "    driver.get(url)\n",
    "\n",
    "    SCROLL_PAUSE_TIME = 5\n",
    "\n",
    "    # Get scroll height\n",
    "    last_height = driver.execute_script(\"return document.body.scrollHeight\")\n",
    "\n",
    "    while True:\n",
    "        # Scroll down to bottom\n",
    "        driver.execute_script(\"window.scrollTo(0, document.body.scrollHeight);\")\n",
    "\n",
    "        # Wait to load page\n",
    "        time.sleep(SCROLL_PAUSE_TIME)\n",
    "        driver.execute_script(\"window.scrollBy(0,-10);\")\n",
    "        driver.execute_script(\"window.scrollBy(0,10);\")\n",
    "        time.sleep(SCROLL_PAUSE_TIME)\n",
    "        # Calculate new scroll height and compare with last scroll height\n",
    "        new_height = driver.execute_script(\"return document.body.scrollHeight\")\n",
    "        if new_height == last_height:\n",
    "            break\n",
    "        last_height = new_height\n",
    "\n",
    "    time.sleep(10)\n",
    "    page_source = driver.page_source\n",
    "    driver.close()\n",
    "    innings_soup = BeautifulSoup(page_source)\n",
    "    return innings_soup"
   ]
  },
  {
   "cell_type": "code",
   "execution_count": 5,
   "metadata": {},
   "outputs": [],
   "source": [
    "# extract for all 4 innings from a match url\n",
    "\n",
    "def extract_match_commentary(url):\n",
    "    urls= [url +'?innings=1',url +'?innings=2',url +'?innings=3',url +'?innings=4']\n",
    "\n",
    "    match_commentary_soup = dict()\n",
    "    for url in urls:\n",
    "        try:\n",
    "            urllib.request.urlopen(url)\n",
    "            match_commentary_soup[url] = content_render_extract(url)\n",
    "        except:\n",
    "            match_commentary_soup[url] = None\n",
    "    return match_commentary_soup"
   ]
  },
  {
   "cell_type": "code",
   "execution_count": 6,
   "metadata": {},
   "outputs": [],
   "source": [
    "## load commentary urls\n",
    "\n",
    "df_match_urls = pd.read_csv('india_test_match_urls.csv')\n",
    "df_match_urls['url_link'] = df_match_urls['url_link'].apply(lambda x: x.replace('scorecard', 'commentary'))"
   ]
  },
  {
   "cell_type": "code",
   "execution_count": 19,
   "metadata": {},
   "outputs": [],
   "source": [
    "## filter out matches post 2006\n",
    "df_match_urls['season'] = df_match_urls['url_link'].apply(lambda x: x[-7:-3] if x[-3] == '-' else x[-4:])\n",
    "df_match_urls['season'] = pd.to_numeric(df_match_urls['season'], errors='coerce')\n",
    "df_match_urls = df_match_urls[df_match_urls.season >= 2006]\n",
    "df_match_urls = df_match_urls.sort_values(by = ['season'],ascending = False)"
   ]
  },
  {
   "cell_type": "code",
   "execution_count": 224,
   "metadata": {},
   "outputs": [],
   "source": [
    "## extract commentary page for each match url\n",
    "\n",
    "bulk_commentary_soup = dict()\n",
    "\n",
    "for url in df_match_urls['url_link']:\n",
    "    match_commentary_soup = extract_match_commentary(url)\n",
    "    bulk_commentary_soup.update(match_commentary_soup)"
   ]
  },
  {
   "cell_type": "code",
   "execution_count": 226,
   "metadata": {},
   "outputs": [
    {
     "data": {
      "text/plain": [
       "2132"
      ]
     },
     "execution_count": 226,
     "metadata": {},
     "output_type": "execute_result"
    }
   ],
   "source": [
    "len(bulk_commentary_soup)"
   ]
  },
  {
   "cell_type": "code",
   "execution_count": 233,
   "metadata": {},
   "outputs": [],
   "source": [
    "#test = pd.Series(bulk_commentary_soup).to_frame()"
   ]
  },
  {
   "cell_type": "code",
   "execution_count": null,
   "metadata": {},
   "outputs": [],
   "source": []
  }
 ],
 "metadata": {
  "kernelspec": {
   "display_name": "Python 3",
   "language": "python",
   "name": "python3"
  },
  "language_info": {
   "codemirror_mode": {
    "name": "ipython",
    "version": 3
   },
   "file_extension": ".py",
   "mimetype": "text/x-python",
   "name": "python",
   "nbconvert_exporter": "python",
   "pygments_lexer": "ipython3",
   "version": "3.6.5"
  }
 },
 "nbformat": 4,
 "nbformat_minor": 2
}
