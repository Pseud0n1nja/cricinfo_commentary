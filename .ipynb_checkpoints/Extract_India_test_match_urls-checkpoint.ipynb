{
 "cells": [
  {
   "cell_type": "code",
   "execution_count": 1,
   "metadata": {},
   "outputs": [],
   "source": [
    "from bs4 import BeautifulSoup\n",
    "import urllib\n",
    "import re\n",
    "import datetime\n",
    "#import feedparser\n",
    "import pandas as pd\n",
    "from nltk.tokenize import word_tokenize\n",
    "import json\n",
    "import urllib.request"
   ]
  },
  {
   "cell_type": "code",
   "execution_count": 16,
   "metadata": {},
   "outputs": [],
   "source": [
    "from urllib.request import urlopen"
   ]
  },
  {
   "cell_type": "code",
   "execution_count": 2,
   "metadata": {},
   "outputs": [],
   "source": [
    "def soupify(url):\n",
    "    with urllib.request.urlopen(url) as url:\n",
    "        content = url.read()\n",
    "    soup= BeautifulSoup(content, 'html.parser')  \n",
    "    return soup"
   ]
  },
  {
   "cell_type": "code",
   "execution_count": 3,
   "metadata": {},
   "outputs": [],
   "source": [
    "## india_tests\n",
    "\n",
    "url = 'http://stats.espncricinfo.com/ci/engine/records/team/series_results.html?class=1;id=6;type=team'"
   ]
  },
  {
   "cell_type": "code",
   "execution_count": 4,
   "metadata": {},
   "outputs": [],
   "source": [
    "series_data = soupify(url).find_all(\"a\", class_=\"data-link\")"
   ]
  },
  {
   "cell_type": "code",
   "execution_count": 6,
   "metadata": {},
   "outputs": [],
   "source": [
    "series_urls = ['http://stats.espncricinfo.com'+ anchor['href'] for anchor in series_data]"
   ]
  },
  {
   "cell_type": "code",
   "execution_count": 18,
   "metadata": {},
   "outputs": [],
   "source": [
    "matches_data = []\n",
    "for series_url in series_urls:\n",
    "    try:\n",
    "        urlopen(series_url)\n",
    "        matches_data.append(soupify(series_url).find_all(\"a\",class_ = \"potMatchMenuLink\") + soupify(series_url).find_all(\"a\",class_ = \"cscore_button cscore_button--grouped button--gray button-alt sm react-router-link\"))\n",
    "    except: \n",
    "        pass"
   ]
  },
  {
   "cell_type": "code",
   "execution_count": 20,
   "metadata": {},
   "outputs": [],
   "source": [
    "flat_matches_data = [item for sublist in matches_data for item in sublist]"
   ]
  },
  {
   "cell_type": "code",
   "execution_count": 21,
   "metadata": {},
   "outputs": [],
   "source": [
    "matches_urls = [anchor['href'] for anchor in flat_matches_data]"
   ]
  },
  {
   "cell_type": "code",
   "execution_count": 22,
   "metadata": {},
   "outputs": [],
   "source": [
    "matches_urls = [k for k in matches_urls if 'scorecard' in k]"
   ]
  },
  {
   "cell_type": "code",
   "execution_count": 23,
   "metadata": {},
   "outputs": [],
   "source": [
    "matches_urls_final = ['http://www.espncricinfo.com' + k if 'espncricinfo' not in k else k for k in matches_urls]"
   ]
  },
  {
   "cell_type": "code",
   "execution_count": 24,
   "metadata": {},
   "outputs": [],
   "source": [
    "matches_commentary_urls = [w.replace('scorecard', 'commentary') for w in matches_urls_final]"
   ]
  },
  {
   "cell_type": "code",
   "execution_count": 32,
   "metadata": {},
   "outputs": [],
   "source": [
    "pd.DataFrame(matches_urls_final,columns = ['url_link']).to_csv('india_test_match_urls.csv')"
   ]
  },
  {
   "cell_type": "code",
   "execution_count": null,
   "metadata": {},
   "outputs": [],
   "source": []
  }
 ],
 "metadata": {
  "kernelspec": {
   "display_name": "Python 3",
   "language": "python",
   "name": "python3"
  },
  "language_info": {
   "codemirror_mode": {
    "name": "ipython",
    "version": 3
   },
   "file_extension": ".py",
   "mimetype": "text/x-python",
   "name": "python",
   "nbconvert_exporter": "python",
   "pygments_lexer": "ipython3",
   "version": "3.6.5"
  }
 },
 "nbformat": 4,
 "nbformat_minor": 2
}
